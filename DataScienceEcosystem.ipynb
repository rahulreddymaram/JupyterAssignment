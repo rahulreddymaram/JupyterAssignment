{
 "cells": [
  {
   "cell_type": "markdown",
   "id": "90110add-ac65-4544-826f-50db621d4eda",
   "metadata": {},
   "source": [
    "# Data Science Tools and Ecosystem"
   ]
  },
  {
   "cell_type": "markdown",
   "id": "f0d263ce-681b-4585-b0f1-661fa1c86e74",
   "metadata": {},
   "source": [
    "In this notebook, Data Science Tools and Ecosystem are summarized."
   ]
  },
  {
   "cell_type": "markdown",
   "id": "27c5d8ff-5691-45d8-b691-6e8357f67f6d",
   "metadata": {},
   "source": [
    "__Objectives__\n",
    "- List popular languages in Data Science\n",
    "- List commonly used libraries in Data Science\n",
    "- Table of Data Science tools\n",
    "- Few examples of evaluating arthimetic expression in python"
   ]
  },
  {
   "cell_type": "markdown",
   "id": "d00f12de-ee8c-4277-9c50-21f3e340a489",
   "metadata": {},
   "source": [
    "Some of the popular languages that Data Scientists use are: \n",
    "1. Python\n",
    "2. R\n",
    "3. Julia\n",
    "4. SQL\n",
    "5. JAVA"
   ]
  },
  {
   "cell_type": "markdown",
   "id": "8229066f-7a74-4deb-a150-b2fc23a4238e",
   "metadata": {},
   "source": [
    "Some of the commonly used libraries used by Data Scientists include: \n",
    "1. Pandas\n",
    "2. Numpy\n",
    "3. Matplotlib\n",
    "4. ggplot\n"
   ]
  },
  {
   "cell_type": "markdown",
   "id": "652bebfd-a1b2-4631-8318-a9d761887e85",
   "metadata": {},
   "source": [
    "| Data Science Tools |\n",
    "| ------------------ |\n",
    "| RStudio |\n",
    "| Visual Studio |\n",
    "| Jupyter Notebook |"
   ]
  },
  {
   "cell_type": "markdown",
   "id": "f1af6e74-0c20-4955-af44-4c5156ef2092",
   "metadata": {},
   "source": [
    "### Below are a few examples of evaluating arithmetic expressions in Python."
   ]
  },
  {
   "cell_type": "code",
   "execution_count": 13,
   "id": "998fe4db-8482-4700-847b-26617c660fcd",
   "metadata": {},
   "outputs": [
    {
     "data": {
      "text/plain": [
       "17"
      ]
     },
     "execution_count": 13,
     "metadata": {},
     "output_type": "execute_result"
    }
   ],
   "source": [
    "#This a simple arithmetic expression to mutiply then add integers.\n",
    "(3*4)+5"
   ]
  },
  {
   "cell_type": "code",
   "execution_count": 15,
   "id": "88711d68-84b5-48ca-a0da-bba78fc16aa2",
   "metadata": {},
   "outputs": [
    {
     "data": {
      "text/plain": [
       "3.3333333333333335"
      ]
     },
     "execution_count": 15,
     "metadata": {},
     "output_type": "execute_result"
    }
   ],
   "source": [
    "#This will convert 200 minutes to hours by diving by 60\n",
    "200/60"
   ]
  },
  {
   "cell_type": "markdown",
   "id": "5ff17667-038c-44a0-813b-a6631712a83b",
   "metadata": {},
   "source": [
    "## Author\n",
    "Rahul Maramreddy"
   ]
  },
  {
   "cell_type": "code",
   "execution_count": null,
   "id": "9668b8f4-bb55-4211-b1e1-d843c7f6c37e",
   "metadata": {},
   "outputs": [],
   "source": []
  }
 ],
 "metadata": {
  "kernelspec": {
   "display_name": "Python 3 (ipykernel)",
   "language": "python",
   "name": "python3"
  },
  "language_info": {
   "codemirror_mode": {
    "name": "ipython",
    "version": 3
   },
   "file_extension": ".py",
   "mimetype": "text/x-python",
   "name": "python",
   "nbconvert_exporter": "python",
   "pygments_lexer": "ipython3",
   "version": "3.11.7"
  }
 },
 "nbformat": 4,
 "nbformat_minor": 5
}
